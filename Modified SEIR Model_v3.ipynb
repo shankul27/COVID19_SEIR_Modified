{
 "cells": [
  {
   "cell_type": "code",
   "execution_count": 44,
   "metadata": {},
   "outputs": [],
   "source": [
    "import numpy as np\n",
    "import pandas as pd\n",
    "import requests\n",
    "import json\n",
    "from datetime import datetime\n",
    "from datetime import timedelta \n",
    "pd.options.mode.chained_assignment = None  # default='warn'"
   ]
  },
  {
   "cell_type": "code",
   "execution_count": 45,
   "metadata": {},
   "outputs": [],
   "source": [
    "#added a new variable Iso to take into account those patients who got isolated\n",
    "def modified_seir_model(init_vals, params, t):\n",
    "    S_0, E_0, I_0, Iso_0, R_0 = init_vals\n",
    "    S, E, I, Iso, R = [S_0], [E_0], [I_0],[Iso_0], [R_0]\n",
    "    Total = [Iso_0+R_0]\n",
    "    alpha, beta, gamma, delta = params\n",
    "    dt = t[1] - t[0]\n",
    "    \n",
    "    for _ in t[1:]:            \n",
    "        next_S = S[-1] - (beta*S[-1]*I[-1])*dt\n",
    "        next_E = E[-1] + (beta*S[-1]*I[-1] - alpha*E[-1])*dt\n",
    "        next_I = I[-1] + (alpha*E[-1] - gamma*I[-1])*dt\n",
    "        next_Iso = Iso[-1] + (gamma*I[-1]- delta*Iso[-1])*dt\n",
    "        next_R = R[-1] + (delta*Iso[-1])*dt\n",
    "        S.append(next_S)\n",
    "        E.append(next_E)\n",
    "        I.append(next_I)\n",
    "        Iso.append(next_Iso)\n",
    "        R.append(next_R)\n",
    "        Total.append(next_Iso+next_R)\n",
    "    return np.stack([S, E, I, Iso, R, Total]).T"
   ]
  },
  {
   "cell_type": "code",
   "execution_count": 46,
   "metadata": {},
   "outputs": [],
   "source": [
    "state = 'mh' #a different state can be selected based on its state code\n",
    "day_zero = datetime(2020, 4, 3) #1st day from which calculation starts\n",
    "\n",
    "# Update value of N with the total population for the state. Population of a few states is already mentioned below\n",
    "#N = 1352600000 #india\n",
    "#N = 64801901 #gujrat\n",
    "#N = 37960000 #kerela\n",
    "#N = 233378519 #UP\n",
    "N = 67000000 #karnataka\n",
    "\n",
    "numOfDays = 60 # num of days for which prediction has to made\n"
   ]
  },
  {
   "cell_type": "code",
   "execution_count": 47,
   "metadata": {},
   "outputs": [],
   "source": [
    "#calling covid19india API to retrieve adata \n",
    "url = 'https://api.covid19india.org/states_daily.json'\n",
    "response = requests.get(url)\n",
    "content = json.loads(response.text)\n",
    "records = content['states_daily']\n",
    "rawDataframe = pd.DataFrame.from_records(records) #recieved data converted to dataframes\n",
    "\n",
    "#filtered data for the mentioned state\n",
    "filteredDataframe = rawDataframe[['date', 'status', state]]"
   ]
  },
  {
   "cell_type": "code",
   "execution_count": 48,
   "metadata": {},
   "outputs": [],
   "source": [
    "#Data Cleaning and rearrangement\n",
    "dataframe = pd.pivot(data = filteredDataframe, index = 'date', columns = 'status', values = state)\n",
    "dataframe.index = pd.to_datetime(dataframe.index)\n",
    "dataframe.sort_values(by=['date'], inplace=True)\n",
    "for column in dataframe:\n",
    "    dataframe[column] = dataframe[column].astype(int)\n",
    "    dataframe['Total ' + column] = dataframe[column].cumsum()\n",
    "dataframe['date'] = dataframe.index\n",
    "dataframe = dataframe[dataframe['date'] >= day_zero]\n",
    "dataframeCopy = dataframe.copy()\n",
    "dataframe.index = np.arange(0, len(dataframe))"
   ]
  },
  {
   "cell_type": "code",
   "execution_count": 49,
   "metadata": {},
   "outputs": [
    {
     "name": "stdout",
     "output_type": "stream",
     "text": [
      "Initially Infected: 850.9999999999999\n",
      "Initially Exposed: 1242.5525\n",
      "Initially Recovered or Dead: 76\n",
      "Initially Infected Detected: 411\n"
     ]
    }
   ],
   "source": [
    "#Get initial vales for Infected, Exposed, Recovered and Confired cases from the downloaded data\n",
    "a = pd.read_excel('E and I Template.xlsx')\n",
    "\n",
    "initiallyInfected = (a['Infective Distribution']*dataframe['Confirmed'][:len(a)]).sum()\n",
    "print('Initially Infected: ' + str(initiallyInfected))\n",
    "\n",
    "initiallyExposed = (a['Exposed Distribution']*dataframe['Confirmed'][:len(a)]).sum()\n",
    "print('Initially Exposed: ' + str(initiallyExposed))\n",
    "\n",
    "initiallyRecoveredDead =  dataframe['Total Recovered'][0] + dataframe['Total Deceased'][0]\n",
    "print('Initially Recovered or Dead: ' + str(initiallyRecoveredDead))\n",
    "\n",
    "initiallyInfectedDetected = dataframe['Total Confirmed'][0] - initiallyRecoveredDead\n",
    "print('Initially Infected Detected: ' + str(initiallyInfectedDetected))"
   ]
  },
  {
   "cell_type": "code",
   "execution_count": 50,
   "metadata": {},
   "outputs": [],
   "source": [
    "# Define parameters to derive alpha, beta, gamma and delta\n",
    "\n",
    "isolationPeriod = 15 # Average No. of days after which patient is declared Recovered or Dead \n",
    "cureOrDetectionPeriod = 6\n",
    "incubationPeriod = 5.2 #5.2 #https://annals.org/aim/fullarticle/2762808/incubation-period-coronavirus-disease-2019-covid-19-from-publicly-reported\n",
    "#covidMortality = 0.002 #https://www.worldometers.info/coronavirus/coronavirus-death-rate/#who-03-03-20 \n",
    "\n",
    "init_vals = (N - (initiallyExposed + initiallyInfected + initiallyInfectedDetected + initiallyRecoveredDead))/N, initiallyExposed/N, initiallyInfected/N,initiallyInfectedDetected/N, initiallyRecoveredDead/N\n",
    "\n",
    "#Derive alpha,, gamma, delta values\n",
    "alpha = 1/incubationPeriod\n",
    "gamma = 1/cureOrDetectionPeriod\n",
    "delta = 1/isolationPeriod\n",
    "\n"
   ]
  },
  {
   "cell_type": "code",
   "execution_count": 51,
   "metadata": {},
   "outputs": [],
   "source": [
    "#limits of the simulation loop\n",
    "t_max = numOfDays\n",
    "dt = .1\n",
    "t = np.linspace(0, t_max, int(t_max/dt) + 1)\n",
    "\n",
    "#limit for R value. Taken from 0.75 to 4\n",
    "loopRange = np.arange(0.75,4.25,0.25)\n",
    "\n",
    "#initialize empty datasets\n",
    "final_Dataset = pd.DataFrame()\n",
    "final_Dataset_Total = pd.DataFrame()\n",
    "final_Dataset_Active = pd.DataFrame()\n",
    "final_Dataset_New = pd.DataFrame()"
   ]
  },
  {
   "cell_type": "code",
   "execution_count": 52,
   "metadata": {},
   "outputs": [],
   "source": [
    "# Run simulation\n",
    "\n",
    "#this loop is for each value of beta\n",
    "for i in loopRange:\n",
    "    beta = i/cureOrDetectionPeriod #beta calculated by R value\n",
    "    \n",
    "    params = alpha, beta, gamma, delta\n",
    "    results = modified_seir_model(init_vals, params, t) #modified SEIR model\n",
    "    \n",
    "    #data rearrangement\n",
    "    dataset = pd.DataFrame(results*N)\n",
    "    dataset = dataset[dataset.index % 10 == 0]\n",
    "    dataset.columns = ['Susceptible Cases (R='+ str(i)+')','Exposed Cases (R='+ str(i)+')','Infectious Cases (R='+ str(i)+')', 'Active Cases (R='+ str(i)+')','Recovered/Dead Cases (R='+ str(i)+')','Total Cases (R='+ str(i)+')']\n",
    "    \n",
    "    #Add values to parent dataset\n",
    "    final_Dataset = pd.concat([final_Dataset, dataset],axis=1)\n",
    "    final_Dataset_Total = pd.concat([final_Dataset_Total, dataset['Total Cases (R='+ str(i)+')']],axis=1)\n",
    "    final_Dataset_Active = pd.concat([final_Dataset_Active,dataset['Active Cases (R='+ str(i)+')']],axis=1)\n",
    "    final_Dataset_New = pd.concat([final_Dataset_New,dataset['Active Cases (R='+ str(i)+')']],axis=1)\n",
    "    final_Dataset_New = pd.concat([final_Dataset_New,dataset['Recovered/Dead Cases (R='+ str(i)+')']],axis=1)"
   ]
  },
  {
   "cell_type": "code",
   "execution_count": 53,
   "metadata": {},
   "outputs": [],
   "source": [
    "#calculating each day value by simple subtraction of cumulative values\n",
    "for i in np.arange(1,len(final_Dataset_New)):\n",
    "    final_Dataset_New.iloc[i-1] = final_Dataset_New.iloc[i] - final_Dataset_New.iloc[i-1]\n",
    "for i in loopRange:\n",
    "    final_Dataset_New['Active Cases (R='+ str(i)+')'] = final_Dataset_New['Active Cases (R='+ str(i)+')'] + final_Dataset_New['Recovered/Dead Cases (R='+ str(i)+')']\n",
    "    del final_Dataset_New['Recovered/Dead Cases (R='+ str(i)+')']"
   ]
  },
  {
   "cell_type": "code",
   "execution_count": 54,
   "metadata": {},
   "outputs": [],
   "source": [
    "#datetime manipulation and updating index with date value\n",
    "days = pd.date_range(day_zero, day_zero + timedelta(numOfDays), freq='D')\n",
    "final_Dataset.index = days\n",
    "final_Dataset_Total.index = days\n",
    "final_Dataset_Active.index = days\n",
    "final_Dataset_New.index = days\n",
    "final_Dataset_Total = pd.concat([dataframeCopy['Total Confirmed'],final_Dataset_Total],axis=1)\n",
    "final_Dataset_Active = pd.concat([dataframeCopy['Total Confirmed'] - dataframeCopy['Total Deceased'] - dataframeCopy['Total Recovered'],final_Dataset_Active],axis=1)\n",
    "final_Dataset_New = pd.concat([dataframeCopy['Confirmed'],final_Dataset_New],axis=1)\n",
    "final_Dataset_New = final_Dataset_New[:-1]"
   ]
  },
  {
   "cell_type": "code",
   "execution_count": 35,
   "metadata": {},
   "outputs": [],
   "source": [
    "#Save dataset to an excel file on local drive\n",
    "now = datetime.now()\n",
    "final_Dataset.to_excel (r'C:\\Users\\Manjul\\Downloads\\COVID-19\\\\' + now.strftime(\"%d-%m %H%M\") + \" \" + state + \" \" + day_zero.strftime(\"%d-%m\") +  ' Raw File.xls', index = True)\n",
    "final_Dataset_Total.to_excel (r'C:\\Users\\Manjul\\Downloads\\COVID-19\\\\' + now.strftime(\"%d-%m %H%M\") + \" \" + state + \" \" + day_zero.strftime(\"%d-%m\") +  ' Total Cases.xls', index = True)\n",
    "final_Dataset_Active.to_excel (r'C:\\Users\\Manjul\\Downloads\\COVID-19\\\\' + now.strftime(\"%d-%m %H%M\") + \" \" + state + \" \" + day_zero.strftime(\"%d-%m\") +  ' Active Cases.xls', index = True)\n",
    "final_Dataset_New.to_excel (r'C:\\Users\\Manjul\\Downloads\\COVID-19\\\\' + now.strftime(\"%d-%m %H%M\") + \" \" + state + \" \" + day_zero.strftime(\"%d-%m\") +  ' New Cases.xls', index = True)"
   ]
  },
  {
   "cell_type": "code",
   "execution_count": null,
   "metadata": {},
   "outputs": [],
   "source": []
  }
 ],
 "metadata": {
  "kernelspec": {
   "display_name": "Python 3",
   "language": "python",
   "name": "python3"
  },
  "language_info": {
   "codemirror_mode": {
    "name": "ipython",
    "version": 3
   },
   "file_extension": ".py",
   "mimetype": "text/x-python",
   "name": "python",
   "nbconvert_exporter": "python",
   "pygments_lexer": "ipython3",
   "version": "3.7.6"
  }
 },
 "nbformat": 4,
 "nbformat_minor": 4
}
